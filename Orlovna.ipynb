{
 "cells": [
  {
   "cell_type": "code",
   "execution_count": 1,
   "metadata": {},
   "outputs": [],
   "source": [
    "import Soccer as s\n",
    "import pandas as pd\n",
    "import numpy as np"
   ]
  },
  {
   "cell_type": "code",
   "execution_count": 3,
   "metadata": {},
   "outputs": [],
   "source": [
    "# Data\n",
    "games = [\n",
    "    (['Vojta1', 'Vojta2', 'Krystof'], ['Vdolek', 'Marta', 'Vanan'], 10, 8),\n",
    "    (['Marta', 'Vojta1', 'Krystof'], ['Vdolek', 'Vojta2', 'Vanan'], 2, 5),\n",
    "\n",
    "    (['Marek', 'Vojta2', 'Vdolek'], ['Vojta1', 'Vanan', 'Marta'], 11, 13),\n",
    "    (['Marta', 'Vojta2', 'Marek'], ['Vdolek', 'Vojta1', 'Vanan'], 6, 2),\n",
    "\n",
    "    (['Krystof', 'Panek', 'Vojta2'], ['Vanan', 'Klizka', 'Marek'], 10, 2),\n",
    "    (['Panek', 'Klizka', 'Vojta2'], ['Vanan', 'Krystof', 'Marek'], 10, 4),\n",
    "    (['Krystof', 'Vanan', 'Vojta2'], ['Klizka', 'Panek', 'Marek'], 10, 5),\n",
    "\n",
    "    (['Krystof', '-_-', 'Marta'], ['Vojta2', 'Vojta1', 'Vdolek'], 11, 9),\n",
    "    (['Krystof', '-_-', 'Vdolek'], ['Vojta2', 'Vojta1', 'Marta'], 9, 11),\n",
    "\n",
    "    (['Vojta2', 'Roman', 'Filip'], ['Vanan', 'Panek', 'Marta'], 10, 6),\n",
    "    (['Vojta2', 'Marta', 'Filip'], ['Vanan', 'Panek', 'Roman'], 3, 9),\n",
    "\n",
    "    (['Vojta2', 'Roman', 'Marta'], ['Vanan', 'Filip', 'Krystof'], 10, 7),\n",
    "    (['Vojta2', 'Roman', 'Filip'], ['Vanan', 'Marta', 'Krystof'], 2, 10),\n",
    "\n",
    "    (['Filip', 'Roman', 'Marta'], ['Vanan', 'Vojta2', 'Krystof'], 6, 10),\n",
    "    (['Vojta2', 'Roman', 'Marta'], ['Vanan', 'Filip', 'Krystof'], 3, 3),\n",
    "\n",
    "    (['Michal', 'Vanan', 'Vojta2'], ['Filip', 'Vojta1', 'Marta'], 10, 4),\n",
    "    (['Vojta2', 'Vojta1', 'Marta'], ['Michal', 'Filip', 'Vanan'], 3, 8),\n",
    "\n",
    "    (['Michal', 'Vanan', 'Vojta2'], ['Krystof', 'Vojta1', 'Marta'], 10, 7),\n",
    "    (['Vojta2', 'Vojta1', 'Marta'], ['Michal', 'Krystof', 'Vanan'], 10, 9),\n",
    "\n",
    "    (['Vojta1', 'Krystof', 'Vojta2'], ['Vanan', 'Filip', 'Roman'], 10, 8),\n",
    "    (['Vanan', 'Roman', 'Vojta2'], ['Vojta1', 'Krystof', 'Filip'], 11, 9),\n",
    "\n",
    "    (['Vojta2', 'Krystof', 'Vdolek'], ['Marek', 'Filip', 'Marta'], 10, 2),\n",
    "    (['Marta', 'Filip', 'Vojta2'], ['Vdolek', 'Krystof', 'Marek'], 10, 5),\n",
    "    (['Marek', 'Filip', 'Vojta2'], ['Krystof', 'Vdolek', 'Marta'], 10, 8),\n",
    "\n",
    "    (['Krystof', 'Vojta1', 'Vojta2'], ['Vanan', 'Filip', 'Skleny'], 2, 10),\n",
    "    (['Skleny', 'Vojta1', 'Vojta2'], ['Vanan', 'Filip', 'Krystof'], 7, 10),\n",
    "\n",
    "    (['Vojta2', 'Krystof', 'Filip'], ['Vanan', 'Vojta1', 'Marta'], 10, 1),\n",
    "    (['Vojta2', 'Marta', 'Filip'], ['Vanan', 'Vojta1', 'Krystof'], 10, 7),\n",
    "    \n",
    "    (['Vojta2', 'Krystof', 'Filip'], ['Skleny', 'Roman', 'Michal'], 2, 10),\n",
    "    (['Vojta2', 'Krystof', 'Michal'], ['Skleny', 'Roman', 'Filip'], 1, 10),\n",
    "    (['Vojta2', 'Krystof', 'Roman'], ['Skleny', 'Michal', 'Filip'], 4, 10),\n",
    "]"
   ]
  },
  {
   "cell_type": "code",
   "execution_count": null,
   "metadata": {},
   "outputs": [],
   "source": [
    "# Reset the previous data and evaluate all games\n",
    "s.reset()\n",
    "for match in games:\n",
    "    s.eval_match(match[0], match[1], match[2], match[3])"
   ]
  },
  {
   "cell_type": "code",
   "execution_count": null,
   "metadata": {},
   "outputs": [],
   "source": [
    "df1 = pd.DataFrame(columns=['player', 'elo', 'trueskill'])\n",
    "\n",
    "for player in s.p.values():\n",
    "    df1 = df1.append({\n",
    "        'player': player.name, \n",
    "        'elo': player.last_rating('elo'), \n",
    "        'trueskill': player.last_rating('trueskill').mu - 3*player.last_rating('trueskill').sigma\n",
    "    }, ignore_index=True)"
   ]
  },
  {
   "cell_type": "code",
   "execution_count": null,
   "metadata": {},
   "outputs": [],
   "source": [
    "import matplotlib.pyplot as plt\n",
    "%matplotlib inline"
   ]
  },
  {
   "cell_type": "markdown",
   "metadata": {},
   "source": [
    "# Elo scatter"
   ]
  },
  {
   "cell_type": "code",
   "execution_count": null,
   "metadata": {},
   "outputs": [],
   "source": [
    "plt.title('Elo')\n",
    "plt.scatter(df1['player'], df1['elo'])\n",
    "plt.xticks(rotation=90)\n",
    "plt.axhline(y=df1['elo'].mean(), alpha=0.3)"
   ]
  },
  {
   "cell_type": "markdown",
   "metadata": {},
   "source": [
    "# TrueSkill scatter"
   ]
  },
  {
   "cell_type": "code",
   "execution_count": null,
   "metadata": {},
   "outputs": [],
   "source": [
    "plt.title('TrueSkill')\n",
    "plt.scatter(df1['player'], df1['trueskill'])\n",
    "plt.xticks(rotation=90)\n",
    "plt.axhline(y=df1['trueskill'].mean(), alpha=0.3)"
   ]
  },
  {
   "cell_type": "markdown",
   "metadata": {},
   "source": [
    "# Progress of Elo"
   ]
  },
  {
   "cell_type": "code",
   "execution_count": null,
   "metadata": {},
   "outputs": [],
   "source": [
    "df2 = pd.DataFrame(columns=['player', 'elos'])\n",
    "\n",
    "for player in s.p:\n",
    "    elos = s.get_player(player)[0]\n",
    "    df2 = df2.append({\n",
    "        'player': player,\n",
    "        'elos': elos\n",
    "    }, ignore_index=True)\n",
    "\n",
    "plt.title('Progress of players')\n",
    "for index, row in df2.iterrows():\n",
    "    plt.plot(df2.iloc[index]['elos'].keys(), df2.iloc[index]['elos'].values())\n",
    "    \n",
    "plt.legend(df2['player'], loc=5, bbox_to_anchor=(1.25, 0.5))"
   ]
  }
 ],
 "metadata": {
  "kernelspec": {
   "display_name": "Python 3",
   "language": "python",
   "name": "python3"
  },
  "language_info": {
   "codemirror_mode": {
    "name": "ipython",
    "version": 3
   },
   "file_extension": ".py",
   "mimetype": "text/x-python",
   "name": "python",
   "nbconvert_exporter": "python",
   "pygments_lexer": "ipython3",
   "version": "3.6.4"
  }
 },
 "nbformat": 4,
 "nbformat_minor": 2
}
